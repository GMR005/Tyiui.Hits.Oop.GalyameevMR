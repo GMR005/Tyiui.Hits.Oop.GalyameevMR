{
 "cells": [
  {
   "cell_type": "markdown",
   "metadata": {},
   "source": [
    "<h1 style=\"color:DodgerBlue\">Индивидальный проект</h1>"
   ]
  },
  {
   "cell_type": "markdown",
   "metadata": {},
   "source": [
    "<h2 style=\"color:DodgerBlue\">Название проекта:</h2>\n",
    "\n",
    "----\n",
    "\n",
    "### Вариант задания 6\n"
   ]
  },
  {
   "cell_type": "markdown",
   "metadata": {},
   "source": [
    "<h2 style=\"color:DodgerBlue\">Описание проекта:</h2>\n",
    "\n",
    "----\n",
    "\n",
    "[ваш текст]\n",
    "\n",
    "#### Дополнительное задание\n",
    "Добавьте к сущестующим классам (базовыму и производным 3-4 атрибута и метода) и реализуйте простое, сложное и множественное наследование"
   ]
  },
  {
   "cell_type": "markdown",
   "metadata": {},
   "source": [
    "<h2 style=\"color:DodgerBlue\">Реализация:</h2>\n",
    "\n",
    "----"
   ]
  },
  {
   "cell_type": "code",
   "execution_count": 27,
   "metadata": {
    "dotnet_interactive": {
     "language": "csharp"
    },
    "polyglot_notebook": {
     "kernelName": "csharp"
    }
   },
   "outputs": [],
   "source": [
    "public interface IWatchable\n",
    "{\n",
    "    void Watch();\n",
    "}\n",
    "\n",
    "public interface ICommentable\n",
    "{\n",
    "    void AddComment(string comment);\n",
    "}\n",
    "\n",
    "public class Movie : IWatchable, ICommentable\n",
    "{\n",
    "    private string _title;\n",
    "    private string _director;\n",
    "    private int _year;\n",
    "    private double _rating;\n",
    "\n",
    "    public Movie(string title, string director, int year, double rating)\n",
    "    {\n",
    "        this.Title = title;\n",
    "        this.Director = director;\n",
    "        this.Year = year;\n",
    "        this.Rating = rating;\n",
    "    }\n",
    "\n",
    "    public string Title\n",
    "    {\n",
    "        get { return _title; }\n",
    "        set { _title = value; }\n",
    "    }\n",
    "\n",
    "    public string Director\n",
    "    {\n",
    "        get { return _director; }\n",
    "        set { _director = value; }\n",
    "    }\n",
    "\n",
    "    public int Year\n",
    "    {\n",
    "        get { return _year; }\n",
    "        set { _year = value; }\n",
    "    }\n",
    "\n",
    "    public double Rating\n",
    "    {\n",
    "        get { return _rating; }\n",
    "        set { _rating = value; }\n",
    "    }\n",
    "\n",
    "    public virtual void Watch()\n",
    "    {\n",
    "        Console.WriteLine($\"Просмотр фильма: {Title}\");\n",
    "    }\n",
    "\n",
    "    public virtual void AddComment(string comment)\n",
    "    {\n",
    "        Console.WriteLine($\"Добавлен комментарий: {comment}\");\n",
    "    }\n",
    "\n",
    "    public virtual string GetInfo()\n",
    "    {\n",
    "        return $\"Название: {Title}, Режиссер: {Director}, Год: {Year}, Рейтинг: {Rating}\";\n",
    "    }\n",
    "\n",
    "    public virtual string Compare(Movie other)\n",
    "    {\n",
    "        if (this.Rating > other.Rating)\n",
    "        {\n",
    "            return $\"{this.Title} имеет более высокий рейтинг, чем {other.Title}\";\n",
    "        }\n",
    "        else if (this.Rating < other.Rating)\n",
    "        {\n",
    "            return $\"{other.Title} имеет более высокий рейтинг, чем {this.Title}\";\n",
    "        }\n",
    "        else\n",
    "        {\n",
    "            return $\"{this.Title} и {other.Title} имеют одинаковый рейтинг\";\n",
    "        }\n",
    "    }\n",
    "}\n",
    "\n",
    "public class AnimatedMovie : Movie, IWatchable, ICommentable\n",
    "{\n",
    "    private string studio;\n",
    "\n",
    "    public AnimatedMovie(string title, string director, int year, double rating, string studio) : base(title, director, year, rating)\n",
    "    {\n",
    "        this.studio = studio;\n",
    "    }\n",
    "\n",
    "    public override string GetInfo()\n",
    "    {\n",
    "        return base.GetInfo() + $\", Студия: {studio}\";\n",
    "    }\n",
    "\n",
    "    public override void Watch()\n",
    "    {\n",
    "        Console.WriteLine($\"Просмотр мультфильма: {Title}\");\n",
    "    }\n",
    "\n",
    "    public override void AddComment(string comment)\n",
    "    {\n",
    "        Console.WriteLine($\"Добавлен комментарий к мультфильму: {comment}\");\n",
    "    }\n",
    "}\n",
    "\n",
    "\n",
    "        Movie featureFilm = new Movie(\"Властелин колец\", \"Питер Джексон\", 2001, 9.0);\n",
    "        AnimatedMovie animatedMovie = new AnimatedMovie(\"История игрушек\", \"Джон Лассетер\", 1995, 6.5, \"Pixar\");\n",
    "\n",
    "        animatedMovie.Watch();\n",
    "        Console.WriteLine(animatedMovie.GetInfo());\n",
    "        Console.WriteLine();\n",
    "\n",
    "        featureFilm.Watch();\n",
    "        Console.WriteLine(featureFilm.GetInfo());\n",
    "        Console.WriteLine();\n",
    "\n",
    "        animatedMovie.AddComment(\"Классика анимации!\");\n",
    "        Console.WriteLine();\n",
    "\n",
    "        string res = featureFilm.Compare(animatedMovie);\n",
    "        Console.WriteLine(res);\n"
   ]
  }
 ],
 "metadata": {
  "kernelspec": {
   "display_name": ".NET (C#)",
   "language": "C#",
   "name": ".net-csharp"
  },
  "polyglot_notebook": {
   "kernelInfo": {
    "defaultKernelName": "csharp",
    "items": [
     {
      "aliases": [],
      "languageName": "csharp",
      "name": "csharp"
     }
    ]
   }
  }
 },
 "nbformat": 4,
 "nbformat_minor": 2
}
