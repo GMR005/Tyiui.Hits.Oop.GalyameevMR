{
 "cells": [
  {
   "cell_type": "markdown",
   "metadata": {},
   "source": [
    "<h1 style=\"color:DodgerBlue\">Индивидальный проект</h1>"
   ]
  },
  {
   "cell_type": "markdown",
   "metadata": {},
   "source": [
    "<h2 style=\"color:DodgerBlue\">Название проекта:</h2>\n",
    "\n",
    "----\n",
    "\n",
    "### Вариант задания \n"
   ]
  },
  {
   "cell_type": "markdown",
   "metadata": {},
   "source": [
    "<h2 style=\"color:DodgerBlue\">Описание проекта:</h2>\n",
    "\n",
    "----\n",
    "\n",
    "[ваш текст]\n",
    "\n",
    "#### Дополнительное задание\n",
    "Добавьте к сущестующим классам конструктора классов с использованием гетторов и сетторов и реализуйте взаимодействие объектов между собой"
   ]
  },
  {
   "cell_type": "markdown",
   "metadata": {},
   "source": [
    "<h2 style=\"color:DodgerBlue\">Реализация:</h2>\n",
    "\n",
    "----"
   ]
  },
  {
   "cell_type": "code",
   "execution_count": 1,
   "metadata": {
    "dotnet_interactive": {
     "language": "csharp"
    },
    "polyglot_notebook": {
     "kernelName": "csharp"
    }
   },
   "outputs": [
    {
     "name": "stdout",
     "output_type": "stream",
     "text": [
      "Смотрим фильм: Планета Земля\n",
      "Название: Планета Земля, Режиссер: Дэвид Аттенборо, Год выпуска: 2006, Тематика: Природа\n",
      "Смотрим фильм: Начало\n",
      "Название: Начало, Режиссер: Кристофер Нолан, Год выпуска: 2010\n",
      "Оценка: 8/10\n",
      "Смотрим фильм: История игрушек\n",
      "Название: История игрушек, Режиссер: Джон Лассетер, Год выпуска: 1995, Анимационная студия: Пиксар\n"
     ]
    }
   ],
   "source": [
    "\n",
    "    public class Movie\n",
    "    {\n",
    "\n",
    "        private string title;\n",
    "        private string director;\n",
    "        private int releaseYear;\n",
    "\n",
    "        public string Title\n",
    "        {\n",
    "            get { return title; }\n",
    "            set { title = value; }\n",
    "        }\n",
    "\n",
    "        public string Director\n",
    "        {\n",
    "            get { return director; }\n",
    "            set { director = value; }\n",
    "        }\n",
    "\n",
    "        public int ReleaseYear\n",
    "        {\n",
    "            get { return releaseYear; }\n",
    "            set { releaseYear = value; }\n",
    "        }\n",
    "\n",
    "        public Movie(string title, string director, int releaseYear)\n",
    "        {\n",
    "            Title = title;\n",
    "            Director = director;\n",
    "            ReleaseYear = releaseYear;\n",
    "        }\n",
    "\n",
    "        \n",
    "        public virtual string GetInfo()\n",
    "        {\n",
    "            return $\"Название: {Title}, Режиссер: {Director}, Год выпуска: {ReleaseYear}\";\n",
    "        }\n",
    "\n",
    "        public virtual void Watch()\n",
    "        {\n",
    "            Console.WriteLine($\"Смотрим фильм: {Title}\");\n",
    "        }\n",
    "\n",
    "        public virtual void Rate(int rating)\n",
    "        {\n",
    "            Console.WriteLine($\"Оценка для {Title}: {rating}/10\");\n",
    "        }\n",
    "    }\n",
    "\n",
    "    public class Documentary : Movie\n",
    "    {\n",
    "        private string theme;\n",
    "\n",
    "        public string Theme\n",
    "        {\n",
    "            get { return theme; }\n",
    "            set { theme = value; }\n",
    "        }\n",
    "\n",
    "        public Documentary(string title, string director, int releaseYear, string theme)\n",
    "            : base(title, director, releaseYear)\n",
    "        {\n",
    "            Theme = theme;\n",
    "        }\n",
    "\n",
    "        public override string GetInfo()\n",
    "        {\n",
    "            return base.GetInfo() + $\", Тематика: {Theme}\";\n",
    "        }\n",
    "\n",
    "       \n",
    "    }\n",
    "\n",
    "    public class FeatureFilm : Movie\n",
    "    {\n",
    "        private string genre;\n",
    "\n",
    "        public string Genre\n",
    "        {\n",
    "            get { return genre; }\n",
    "            set { genre = value; }\n",
    "        }\n",
    "    \n",
    "\n",
    "        public FeatureFilm(string title, string director, int releaseYear, string genre)\n",
    "            : base(title, director, releaseYear)\n",
    "        {\n",
    "            Genre = genre;\n",
    "        }\n",
    "\n",
    "        public override void Rate(int rating)\n",
    "        {\n",
    "            if (Genre.ToLower() == \"комедия\" && rating < 5)\n",
    "            {\n",
    "                Console.WriteLine($\"Оценка: {rating}/10. Не смешно!\");\n",
    "            }\n",
    "            else\n",
    "            {\n",
    "                Console.WriteLine($\"Оценка: {rating}/10\");\n",
    "            }\n",
    "        }\n",
    "    }\n",
    "\n",
    "    public class AnimatedMovie : Movie\n",
    "    {\n",
    "        private string animationStudio;\n",
    "\n",
    "        public string AnimationStudio\n",
    "        {\n",
    "            get { return animationStudio; }\n",
    "            set { animationStudio = value; }\n",
    "        }\n",
    "\n",
    "        public AnimatedMovie(string title, string director, int releaseYear, string animationStudio)\n",
    "            : base(title, director, releaseYear)\n",
    "        {\n",
    "            AnimationStudio = animationStudio;\n",
    "        }\n",
    "\n",
    "        public override string GetInfo()\n",
    "        {\n",
    "            return base.GetInfo() + $\", Анимационная студия: {AnimationStudio}\";\n",
    "        }\n",
    "    }\n",
    "\n",
    "\n",
    "            Movie documentary = new Documentary(\"Планета Земля\", \"Дэвид Аттенборо\", 2006, \"Природа\");\n",
    "            documentary.Watch();\n",
    "            Console.WriteLine(documentary.GetInfo());\n",
    "\n",
    "            Movie featureFilm = new FeatureFilm(\"Начало\", \"Кристофер Нолан\", 2010, \"Научная фантастика\");\n",
    "            featureFilm.Watch();\n",
    "            Console.WriteLine(featureFilm.GetInfo());\n",
    "            featureFilm.Rate(8);\n",
    "\n",
    "            Movie animatedMovie = new AnimatedMovie(\"История игрушек\", \"Джон Лассетер\", 1995, \"Пиксар\");\n",
    "            animatedMovie.Watch();\n",
    "            Console.WriteLine(animatedMovie.GetInfo());\n",
    "            "
   ]
  }
 ],
 "metadata": {
  "kernelspec": {
   "display_name": ".NET (C#)",
   "language": "C#",
   "name": ".net-csharp"
  },
  "polyglot_notebook": {
   "kernelInfo": {
    "defaultKernelName": "csharp",
    "items": [
     {
      "aliases": [],
      "languageName": "csharp",
      "name": "csharp"
     }
    ]
   }
  }
 },
 "nbformat": 4,
 "nbformat_minor": 2
}
